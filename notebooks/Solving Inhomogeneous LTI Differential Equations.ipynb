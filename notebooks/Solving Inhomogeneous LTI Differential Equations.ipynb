{
 "cells": [
  {
   "cell_type": "markdown",
   "metadata": {
    "id": "jGVHTUl9DQPE"
   },
   "source": [
    "<h1 style=\"font-size: 2rem\">Solving Inhomogeneous LTI Differential Equations</h1>\n",
    "\n",
    "\n"
   ]
  },
  {
   "cell_type": "markdown",
   "metadata": {
    "id": "FyquDWW0izHq"
   },
   "source": [
    "# Preliminaries"
   ]
  },
  {
   "cell_type": "code",
   "execution_count": 1,
   "metadata": {
    "executionInfo": {
     "elapsed": 34399,
     "status": "ok",
     "timestamp": 1619719933108,
     "user": {
      "displayName": "Joseph Hellerstein",
      "photoUrl": "https://lh3.googleusercontent.com/a-/AOh14Ggr-yAwbfqFCOlFTHoKepUYJ9VjZuCGILW-YdHvUQ=s64",
      "userId": "07301174361489660166"
     },
     "user_tz": 420
    },
    "id": "Ba1RrnroN9UZ"
   },
   "outputs": [],
   "source": [
    "from common_python.LTIModel.LTISolver import LTISolver\n",
    "from common_python.sympy import sympyUtil as su\n",
    "\n",
    "import sympy\n",
    "import numpy as np\n",
    "from sympy import init_printing\n",
    "init_printing()\n",
    "import tellurium as te\n",
    "import matplotlib.pyplot as plt"
   ]
  },
  {
   "cell_type": "markdown",
   "metadata": {
    "id": "_gMOhEqbXVq_"
   },
   "source": [
    "## Latex Macros\n",
    "Macro definitions\n",
    "\n",
    "* change in species concentrations: \\dxdt - how $x$ changes with respect to $t$\n",
    "$\\newcommand{\\dxdt}[]{ \\frac{d {\\bf x}}{d t}}$: $\\dxdt$\n",
    "\n",
    "* change in parameter values: \\dpdt - how $p$ changes with respect to $t$\n",
    "$\\newcommand{\\dpdt}[]{ \\frac{d {\\bf p}}{d t}}$: $\\dpdt$\n",
    "\n",
    "* total change in reaction rate: \\dv\n",
    "$\\newcommand{\\dv}[] {d {\\bf v} }$: $\\dv$\n",
    "\n",
    "* total change in state: \\dx\n",
    "$\\newcommand{\\dx}[] {d {\\bf x} }$: $\\dx$\n",
    "\n",
    "* change in reaction rate w.r.t. $\\bf{x}$: \\dvdx - \n",
    "$\\newcommand{\\dvdx}[]{ \\frac{\\partial {\\bf v}}{\\partial {\\bf x}}}$ $\\dvdx$\n",
    "\n",
    "* change in reaction rate w.r.t. $\\bf{p}$: \\dvdp - \n",
    "$\\newcommand{\\dvdp}[]{ \\frac{\\partial {\\bf v}}\n",
    "{\\partial {\\bf p}}}$ $\\dvdp$"
   ]
  },
  {
   "cell_type": "markdown",
   "metadata": {
    "id": "FPtcq7AcjFJQ"
   },
   "source": [
    "# Helper Functions"
   ]
  },
  {
   "cell_type": "code",
   "execution_count": 2,
   "metadata": {
    "executionInfo": {
     "elapsed": 34397,
     "status": "ok",
     "timestamp": 1619719933110,
     "user": {
      "displayName": "Joseph Hellerstein",
      "photoUrl": "https://lh3.googleusercontent.com/a-/AOh14Ggr-yAwbfqFCOlFTHoKepUYJ9VjZuCGILW-YdHvUQ=s64",
      "userId": "07301174361489660166"
     },
     "user_tz": 420
    },
    "id": "9bi4zlzVjORQ"
   },
   "outputs": [],
   "source": [
    "def addSymbols(symbolStr):\n",
    "  \"\"\"\n",
    "  Adds the list of symbols in the blank separated string.\n",
    "  \"\"\"\n",
    "  symbols = symbolStr.split(\" \")\n",
    "  globalDct = globals()\n",
    "  for idx, symbol in enumerate(symbols):\n",
    "    globalDct[symbol] = sympy.Symbol(symbol)\n",
    "\n",
    "# Tests\n",
    "variables = [\"aa\", \"bbb\", \"fruit\"]\n",
    "symbolStr = \" \".join(variables)\n",
    "addSymbols(symbolStr)\n",
    "for variable in variables:\n",
    "  assert(variable in globals())\n",
    "  delStmt = \"del %s\" % variable\n",
    "  exec(delStmt)"
   ]
  },
  {
   "cell_type": "code",
   "execution_count": 3,
   "metadata": {
    "executionInfo": {
     "elapsed": 34394,
     "status": "ok",
     "timestamp": 1619719933110,
     "user": {
      "displayName": "Joseph Hellerstein",
      "photoUrl": "https://lh3.googleusercontent.com/a-/AOh14Ggr-yAwbfqFCOlFTHoKepUYJ9VjZuCGILW-YdHvUQ=s64",
      "userId": "07301174361489660166"
     },
     "user_tz": 420
    },
    "id": "_u9dnhXPoqGt"
   },
   "outputs": [],
   "source": [
    "def setSymbolValue(symbol, value):\n",
    "  globalDct = globals()\n",
    "  globalDct[symbol] = value"
   ]
  },
  {
   "cell_type": "code",
   "execution_count": 4,
   "metadata": {
    "executionInfo": {
     "elapsed": 34391,
     "status": "ok",
     "timestamp": 1619719933111,
     "user": {
      "displayName": "Joseph Hellerstein",
      "photoUrl": "https://lh3.googleusercontent.com/a-/AOh14Ggr-yAwbfqFCOlFTHoKepUYJ9VjZuCGILW-YdHvUQ=s64",
      "userId": "07301174361489660166"
     },
     "user_tz": 420
    },
    "id": "-stNXcdJjIiG"
   },
   "outputs": [],
   "source": [
    "def mkVector(name, numRow):\n",
    "  # Create the solution vector. The resulting vector is in the global name space.\n",
    "  symbols = [\"%s_%d\" % (name, n) for n in range(numRow)]\n",
    "  symbolStr = \" \".join(symbols)\n",
    "  addSymbols(symbolStr)\n",
    "  setSymbolValue(name, sympy.Matrix([ [s] for s in symbols]))\n",
    "\n",
    "# Test\n",
    "numRow = 5\n",
    "mkVector(\"q\", numRow)\n",
    "assert(len(q) == 5)\n",
    "assert(\"q\" in globals().keys())\n",
    "del q"
   ]
  },
  {
   "cell_type": "markdown",
   "metadata": {
    "id": "Jf364oPSKfKH"
   },
   "source": [
    "# General Approach"
   ]
  },
  {
   "cell_type": "markdown",
   "metadata": {
    "id": "zJeoAtyaK9-v"
   },
   "source": [
    "Find ${\\bf x}(t)$ such that\n",
    "${\\bf x}^{\\prime}(t) = {\\bf A} {\\bf x}(t) + {\\bf r}(t)$ for ${\\bf A}$ a matrix of constants\n",
    "and ${\\bf r}(t)$ a vector of time-varying terms."
   ]
  },
  {
   "cell_type": "markdown",
   "metadata": {
    "id": "71nzm9GuLj9_"
   },
   "source": [
    "Approach\n",
    "1. ${\\bf x}(t) = {\\bf x}_c (t) + {\\bf x}_p (t)$, where $c$ indicates the complementary solution for the homogeneous system and $p$ indicates a particular solution for the inhomogeneous system."
   ]
  },
  {
   "cell_type": "markdown",
   "metadata": {
    "id": "fEyVZ3qtKjBJ"
   },
   "source": [
    "## Homogeneous Solution (Complementary Equation)"
   ]
  },
  {
   "cell_type": "markdown",
   "metadata": {
    "id": "lqBnb8_xM8gj"
   },
   "source": [
    "1. The homogeneous equation is ${\\bf x}^{\\prime} (t) = {\\bf A}{\\bf x}(t)$.\n",
    "1. Trial solution for homogeneous system ${\\bf x}_c(t) = {\\bf v} e^{\\lambda t}$, where ${\\bf v}$ is a vector of constants.\n",
    "1. Substituting the trial solution $\\lambda {\\bf v} e^{\\lambda t} = {\\bf A}{\\bf v} e^{\\lambda t} \\equiv (A - {\\bf I} \\lambda){\\bf v} = {\\bf 0}$. Thus, $\\lambda$ is an eigenvalue of ${\\bf A}$ and ${\\bf v}$ is is eigenvector.\n",
    "1. So, a solution to the homogeneous equation the homogeneous equation has the form\n",
    "$\\sum_n c_n {\\bf v}_n e^{\\lambda_n t}$,\n",
    "where $\\lambda_n, {\\bf v}_n$ are eigenvalue, eigenvector combinations.\n",
    "1. We define ${\\bf X}_c (t) =\n",
    "\\begin{pmatrix}\n",
    "{\\bf v}_1 e^{\\lambda_1 t} & \\cdots & {\\bf v}_N e^{\\lambda_N t}\n",
    "\\end{pmatrix}\n",
    "$\n",
    "1. Given ${\\bf x}(t_0)$, we can find values for the $c_n$. Consider $t_0 = 0$.\n",
    "Note that\n",
    "   \\begin{equation*}\n",
    "    {\\bf X}_c (0)\n",
    "   \\begin{pmatrix}\n",
    "   c_1 \\\\\n",
    "   \\vdots \\\\\n",
    "   c_N\n",
    "   \\end{pmatrix}\n",
    "   = {\\bf x} (0),\n",
    "   \\end{equation*}\n",
    "   which is a system of linear equations in $c_n$.\n",
    "   "
   ]
  },
  {
   "cell_type": "markdown",
   "metadata": {
    "id": "vqU0EmvoS36y"
   },
   "source": [
    "## Particular Solution"
   ]
  },
  {
   "cell_type": "markdown",
   "metadata": {
    "id": "RrWrlR3ymJT2"
   },
   "source": [
    "As is standard practice, we solve for the particular solution.\n",
    "Let $u_n(t)$ be a function associated with the $n$-th variable such that\n",
    "\n",
    "$\n",
    "\\begin{align*}\n",
    "{\\bf x}_p & = &\n",
    "{\\bf X}_c (t)\n",
    "\\begin{pmatrix}\n",
    "u_1 (t) \\\\\n",
    "\\vdots \\\\\n",
    "u_N (t)\n",
    "\\end{pmatrix} \\\\\n",
    "& = & {\\bf X}_c  (t){\\bf u} (t)\n",
    "\\end{align*}.\n",
    "$\n",
    "\n",
    "Because ${\\bf x}_p$ is a solution,\n",
    "$\n",
    "\\begin{align*}\n",
    "{\\bf x}_p^{\\prime} \n",
    "=\n",
    "{\\bf A} {\\bf x}_p \n",
    "+ {\\bf r}(t) .\n",
    "\\end{align*}\n",
    "$\n",
    "Substituting,\n",
    "$\n",
    "\\begin{align*}\n",
    "\\left( \n",
    "  {\\bf X}_c (t) {\\bf u}(t)\n",
    "\\right)^{\\prime} & = &\n",
    "A \n",
    "  {\\bf X}_c (t) {\\bf u}(t)\n",
    "+ {\\bf r}(t) \\\\\n",
    "{\\bf X}^{\\prime}_c (t) {\\bf u}(t) + {\\bf X}_c (t) {\\bf u}^{\\prime}(t) \n",
    " & = & A {\\bf X}_c {\\bf u}(t) + {\\bf r} (t) \\\\\n",
    "{\\bf X}_c (t) {\\bf u}^{\\prime} (t) & = &  {\\bf r} (t) \\\\\n",
    "{\\bf u}^{\\prime} (t) & = & \\left( {\\bf X}_c (t) \\right)^{-1} {\\bf r}(t) \\\\\n",
    "{\\bf u}(t) & = & \\int \\left( {\\bf X}_c (t) \\right)^{-1} {\\bf r}(t) .\n",
    "\\end{align*}\n",
    "$"
   ]
  },
  {
   "cell_type": "markdown",
   "metadata": {
    "id": "0Y8zIlEakPQ1"
   },
   "source": [
    "Some notes:\n",
    "1. Note that any ${\\bf u} (t)$ satisfying the derivative\n",
    "equation is sufficient.\n",
    "1. Are we guaranteed that ${\\bf X}_c (t)$ is invertible?\n",
    "Does it suffice that the $\\{ {\\bf v}_n \\}$ are independent (since they are orthogonal eigenvectors if the eigenvalues\n",
    "are distinct)?"
   ]
  },
  {
   "cell_type": "markdown",
   "metadata": {
    "id": "eIHBCERbT7u8"
   },
   "source": [
    "# Implementing the General Solution"
   ]
  },
  {
   "cell_type": "markdown",
   "metadata": {
    "id": "j_CMg9JebdR8"
   },
   "source": [
    "## Complementary solution"
   ]
  },
  {
   "cell_type": "code",
   "execution_count": 5,
   "metadata": {
    "executionInfo": {
     "elapsed": 34388,
     "status": "ok",
     "timestamp": 1619719933111,
     "user": {
      "displayName": "Joseph Hellerstein",
      "photoUrl": "https://lh3.googleusercontent.com/a-/AOh14Ggr-yAwbfqFCOlFTHoKepUYJ9VjZuCGILW-YdHvUQ=s64",
      "userId": "07301174361489660166"
     },
     "user_tz": 420
    },
    "id": "HrWmT8JcyggE"
   },
   "outputs": [],
   "source": [
    "def init():\n",
    "  addSymbols(\"Amat k1 k2 k3 mat t X0 x y z\")\n",
    "\n",
    "init()\n",
    "assert(\"Amat\" in globals())"
   ]
  },
  {
   "cell_type": "code",
   "execution_count": 6,
   "metadata": {
    "executionInfo": {
     "elapsed": 34384,
     "status": "ok",
     "timestamp": 1619719933112,
     "user": {
      "displayName": "Joseph Hellerstein",
      "photoUrl": "https://lh3.googleusercontent.com/a-/AOh14Ggr-yAwbfqFCOlFTHoKepUYJ9VjZuCGILW-YdHvUQ=s64",
      "userId": "07301174361489660166"
     },
     "user_tz": 420
    },
    "id": "77zVyQPXf_qf"
   },
   "outputs": [],
   "source": [
    "addSymbols(\"Amat mat k1 k2 k3 t X_0\")"
   ]
  },
  {
   "cell_type": "code",
   "execution_count": 7,
   "metadata": {
    "colab": {
     "base_uri": "https://localhost:8080/",
     "height": 78
    },
    "executionInfo": {
     "elapsed": 34717,
     "status": "ok",
     "timestamp": 1619719933451,
     "user": {
      "displayName": "Joseph Hellerstein",
      "photoUrl": "https://lh3.googleusercontent.com/a-/AOh14Ggr-yAwbfqFCOlFTHoKepUYJ9VjZuCGILW-YdHvUQ=s64",
      "userId": "07301174361489660166"
     },
     "user_tz": 420
    },
    "id": "YkZD1sunaPKs",
    "outputId": "e8498e6e-dd34-4741-c33d-fde2d6efe838"
   },
   "outputs": [
    {
     "data": {
      "text/latex": [
       "$\\displaystyle \\left[\\begin{matrix}0 & 0 & 0\\\\k_{1} & - k_{2} & 0\\\\0 & k_{2} & - k_{3}\\end{matrix}\\right]$"
      ],
      "text/plain": [
       "⎡0    0    0 ⎤\n",
       "⎢            ⎥\n",
       "⎢k₁  -k₂   0 ⎥\n",
       "⎢            ⎥\n",
       "⎣0   k₂   -k₃⎦"
      ]
     },
     "execution_count": 7,
     "metadata": {},
     "output_type": "execute_result"
    }
   ],
   "source": [
    "Amat = sympy.Matrix( [[0, 0, 0 ], [k1, -k2, 0], [0, k2, -k3]])\n",
    "Amat"
   ]
  },
  {
   "cell_type": "code",
   "execution_count": 8,
   "metadata": {
    "executionInfo": {
     "elapsed": 34712,
     "status": "ok",
     "timestamp": 1619719933452,
     "user": {
      "displayName": "Joseph Hellerstein",
      "photoUrl": "https://lh3.googleusercontent.com/a-/AOh14Ggr-yAwbfqFCOlFTHoKepUYJ9VjZuCGILW-YdHvUQ=s64",
      "userId": "07301174361489660166"
     },
     "user_tz": 420
    },
    "id": "DMrXTsGTmo2A"
   },
   "outputs": [],
   "source": [
    "def mkEigenMatrix(Amat, subs={}):\n",
    "  \"\"\"\n",
    "  Creates a numpy matrix of eigenvalues using the substitutions indicated.\n",
    "\n",
    "  Parameters\n",
    "  ----------\n",
    "  Amat: sympy.Matrix\n",
    "  subs: dict\n",
    "  \"\"\"\n",
    "  # Obtain the eigenvectors\n",
    "  eigenVecs = Amat.eigenvects()\n",
    "  eigenVecs = [v[2][0] for v in eigenVecs]\n",
    "  for idx, symbol in enumerate([k1, k2, k3]):\n",
    "    eigenVecs = [v.subs(symbol, idx + 1) for v in eigenVecs]\n",
    "  vec = np.array(eigenVecs)\n",
    "  vec = [float(v) for v in vec.flatten()]\n",
    "  vec = np.reshape(vec, (3,3) )\n"
   ]
  },
  {
   "cell_type": "code",
   "execution_count": 9,
   "metadata": {
    "executionInfo": {
     "elapsed": 34885,
     "status": "ok",
     "timestamp": 1619719933629,
     "user": {
      "displayName": "Joseph Hellerstein",
      "photoUrl": "https://lh3.googleusercontent.com/a-/AOh14Ggr-yAwbfqFCOlFTHoKepUYJ9VjZuCGILW-YdHvUQ=s64",
      "userId": "07301174361489660166"
     },
     "user_tz": 420
    },
    "id": "gnHpnsLZaVRa"
   },
   "outputs": [],
   "source": [
    "eigenVecs = Amat.eigenvects()\n",
    "eigenVecs = [v[2][0] for v in eigenVecs]\n",
    "for idx, symbol in enumerate([k1, k2, k3]):\n",
    "  eigenVecs = [v.subs(symbol, idx + 1) for v in eigenVecs]\n",
    "vec = np.array(eigenVecs)\n",
    "vec = [float(v) for v in vec.flatten()]\n",
    "vec = np.reshape(vec, (3,3) )"
   ]
  },
  {
   "cell_type": "code",
   "execution_count": 10,
   "metadata": {
    "colab": {
     "base_uri": "https://localhost:8080/",
     "height": 78
    },
    "executionInfo": {
     "elapsed": 34880,
     "status": "ok",
     "timestamp": 1619719933629,
     "user": {
      "displayName": "Joseph Hellerstein",
      "photoUrl": "https://lh3.googleusercontent.com/a-/AOh14Ggr-yAwbfqFCOlFTHoKepUYJ9VjZuCGILW-YdHvUQ=s64",
      "userId": "07301174361489660166"
     },
     "user_tz": 420
    },
    "id": "785scmiKZfdy",
    "outputId": "da994c84-faef-4fae-fd76-4ac9ea23d558"
   },
   "outputs": [
    {
     "data": {
      "text/latex": [
       "$\\displaystyle \\left[\\begin{matrix}0 & 0 & 0\\\\1 & -2 & 0\\\\0 & 2 & -3\\end{matrix}\\right]$"
      ],
      "text/plain": [
       "⎡0  0   0 ⎤\n",
       "⎢         ⎥\n",
       "⎢1  -2  0 ⎥\n",
       "⎢         ⎥\n",
       "⎣0  2   -3⎦"
      ]
     },
     "execution_count": 10,
     "metadata": {},
     "output_type": "execute_result"
    }
   ],
   "source": [
    "mat = Amat.copy()\n",
    "for idx, symbol in enumerate([k1, k2, k3]):\n",
    "  mat = mat.subs(symbol, idx + 1)\n",
    "mat\n"
   ]
  },
  {
   "cell_type": "code",
   "execution_count": 11,
   "metadata": {
    "executionInfo": {
     "elapsed": 34875,
     "status": "ok",
     "timestamp": 1619719933630,
     "user": {
      "displayName": "Joseph Hellerstein",
      "photoUrl": "https://lh3.googleusercontent.com/a-/AOh14Ggr-yAwbfqFCOlFTHoKepUYJ9VjZuCGILW-YdHvUQ=s64",
      "userId": "07301174361489660166"
     },
     "user_tz": 420
    },
    "id": "yx5DBv1ctnHY"
   },
   "outputs": [],
   "source": [
    "M = sympy.Matrix(((k1, 1, 1, 1), (1, 1, 2, 3)))\n",
    "\n",
    "system = A, b = M[:, :-1], M[:, -1]\n",
    "# b = sympy.Matrix([x, y, z])\n",
    "\n",
    "#sympy.linsolve(system, *b)"
   ]
  },
  {
   "cell_type": "code",
   "execution_count": 12,
   "metadata": {
    "colab": {
     "base_uri": "https://localhost:8080/",
     "height": 98
    },
    "executionInfo": {
     "elapsed": 776,
     "status": "ok",
     "timestamp": 1619726608709,
     "user": {
      "displayName": "Joseph Hellerstein",
      "photoUrl": "https://lh3.googleusercontent.com/a-/AOh14Ggr-yAwbfqFCOlFTHoKepUYJ9VjZuCGILW-YdHvUQ=s64",
      "userId": "07301174361489660166"
     },
     "user_tz": 420
    },
    "id": "-dGvaQ62wm6a",
    "outputId": "2045592f-2c05-42ae-d497-61fbbc1f0888"
   },
   "outputs": [
    {
     "data": {
      "text/latex": [
       "$\\displaystyle \\left[\\begin{matrix}X_{0}\\\\\\frac{X_{0} k_{1} \\left(-1 + \\frac{k_{3}}{k_{2}}\\right) e^{- k_{2} t}}{k_{2} - k_{3}} + \\frac{X_{0} k_{1}}{k_{2}}\\\\- \\frac{X_{0} k_{1} k_{2} e^{- k_{3} t}}{k_{2} k_{3} - k_{3}^{2}} + \\frac{X_{0} k_{1} e^{- k_{2} t}}{k_{2} - k_{3}} + \\frac{X_{0} k_{1}}{k_{3}}\\end{matrix}\\right]$"
      ],
      "text/plain": [
       "⎡                   X₀                   ⎤\n",
       "⎢                                        ⎥\n",
       "⎢           ⎛     k₃⎞  -k₂⋅t             ⎥\n",
       "⎢     X₀⋅k₁⋅⎜-1 + ──⎟⋅ℯ                  ⎥\n",
       "⎢           ⎝     k₂⎠          X₀⋅k₁     ⎥\n",
       "⎢     ────────────────────── + ─────     ⎥\n",
       "⎢            k₂ - k₃             k₂      ⎥\n",
       "⎢                                        ⎥\n",
       "⎢            -k₃⋅t          -k₂⋅t        ⎥\n",
       "⎢  X₀⋅k₁⋅k₂⋅ℯ        X₀⋅k₁⋅ℯ        X₀⋅k₁⎥\n",
       "⎢- ─────────────── + ──────────── + ─────⎥\n",
       "⎢              2       k₂ - k₃        k₃ ⎥\n",
       "⎣    k₂⋅k₃ - k₃                          ⎦"
      ]
     },
     "execution_count": 12,
     "metadata": {},
     "output_type": "execute_result"
    }
   ],
   "source": [
    "def solveLTI(AMat, initialArr, rArr=None):\n",
    "  \"\"\"\n",
    "  Symbolically solves the linear time invariant system: x'(t) = A*x(t) + r(t)\n",
    "  Note: the symbol t must be defined in globals()\n",
    "\n",
    "  Parameters\n",
    "  ----------\n",
    "  AMat: sympy.Matrix (N X N)\n",
    "      A marix\n",
    "  initialArr: sympy.Matrix (N X 1)\n",
    "      Initial values\n",
    "  rArr: sympy.Matrix (N X 1)\n",
    "      r matrix in the differential equation\n",
    "\n",
    "  Returns\n",
    "  -------\n",
    "  sympy.Matrix\n",
    "  \"\"\"\n",
    "  X = \"x\"\n",
    "  numRow = AMat.rows\n",
    "  vectors = []\n",
    "  if not \"t\" in globals():\n",
    "    raise RuntimeError(\"Must define the symbol 't'.\")\n",
    "  results = AMat.eigenvects()\n",
    "  for result in results:\n",
    "    eigen = result[0]\n",
    "    term = sympy.exp(eigen*t)\n",
    "    vectors.append(result[2][0] * term)\n",
    "  solutionMat = sympy.Matrix(vectors)\n",
    "  solutionMat = solutionMat.reshape(numRow, numRow)\n",
    "  solutionMat = solutionMat.transpose()\n",
    "  # Find the coefficients for the eigenvectors\n",
    "  smat = solutionMat.subs(t, 0) # evaluate at time 0\n",
    "  # Solve the linear system\n",
    "  system = smat, initialArr\n",
    "  mkVector(X, numRow)\n",
    "  result = sympy.linsolve(system, *x) # returns a finite set, not a vector\n",
    "  coefVec = sympy.Matrix(result.args[0])\n",
    "  fundamentalMat = solutionMat*sympy.diag(*coefVec)\n",
    "  # Solution\n",
    "  if rArr is not None:\n",
    "    dCoefMat = fundamentalMat.inv()*rArr\n",
    "    coefMat = sympy.integrate(dCoefMat, t)\n",
    "    solutionMat = fundamentalMat * dCoefMat\n",
    "  else:\n",
    "    solutionMat = fundamentalMat * sympy.ones(numRow, cols=1)\n",
    "  return solutionMat\n",
    "\n",
    "# Tests\n",
    "result = solveLTI(Amat, initialArr=[X_0, 0, 0])\n",
    "result"
   ]
  },
  {
   "cell_type": "code",
   "execution_count": 13,
   "metadata": {
    "colab": {
     "base_uri": "https://localhost:8080/",
     "height": 78
    },
    "executionInfo": {
     "elapsed": 290,
     "status": "ok",
     "timestamp": 1619726854659,
     "user": {
      "displayName": "Joseph Hellerstein",
      "photoUrl": "https://lh3.googleusercontent.com/a-/AOh14Ggr-yAwbfqFCOlFTHoKepUYJ9VjZuCGILW-YdHvUQ=s64",
      "userId": "07301174361489660166"
     },
     "user_tz": 420
    },
    "id": "9-hLpHjXsDVY",
    "outputId": "94e9aba3-c4b2-41d6-9cac-f1c3a33d60b6"
   },
   "outputs": [
    {
     "data": {
      "text/latex": [
       "$\\displaystyle \\left[\\begin{matrix}1.0\\\\0.316060279414279\\\\0.114207332260844\\end{matrix}\\right]$"
      ],
      "text/plain": [
       "⎡       1.0       ⎤\n",
       "⎢                 ⎥\n",
       "⎢0.316060279414279⎥\n",
       "⎢                 ⎥\n",
       "⎣0.114207332260844⎦"
      ]
     },
     "execution_count": 13,
     "metadata": {},
     "output_type": "execute_result"
    }
   ],
   "source": [
    "vec = result.copy()\n",
    "for subPair in [(k1, 1), (k2, 2), (k3, 3), (X_0, 1), (t, 0.5)]:\n",
    "  vec = vec.subs(subPair[0], subPair[1])\n",
    "vec.evalf()"
   ]
  },
  {
   "cell_type": "markdown",
   "metadata": {
    "id": "ZpZiMS7o2tlz"
   },
   "source": [
    "## Particular Solution"
   ]
  },
  {
   "cell_type": "code",
   "execution_count": 14,
   "metadata": {
    "id": "w56d0f353T7t"
   },
   "outputs": [],
   "source": [
    "def calcSolutionCoefs(fundamentalMat, rMat):\n",
    "  \"\"\"\n",
    "  Calculates the coefficients for the solutions using variation of\n",
    "  parameters. Assumes that integration is done w.r.t. \"t\", the time variable.\n",
    "\n",
    "  Parameters\n",
    "  ----------\n",
    "  fundamentalMat: sympy.Matrix (N X N)\n",
    "      fundamental matrix\n",
    "  rMat: sympy.Matrix (N X 1)\n",
    "      inhomogeneous term in the LTI system\n",
    "\n",
    "  Returns\n",
    "  -------\n",
    "  coefMat: sympy.Mat (N X 1)\n",
    "      coefficients to use for the terms in the fundamental matrix\n",
    "  \"\"\"\n",
    "  dCoefMat = fundamentalMat.inv()*rMat\n",
    "  coefMat = sympy.integrate(dCoefMat, t)"
   ]
  },
  {
   "cell_type": "code",
   "execution_count": 15,
   "metadata": {
    "executionInfo": {
     "elapsed": 278,
     "status": "ok",
     "timestamp": 1619720143880,
     "user": {
      "displayName": "Joseph Hellerstein",
      "photoUrl": "https://lh3.googleusercontent.com/a-/AOh14Ggr-yAwbfqFCOlFTHoKepUYJ9VjZuCGILW-YdHvUQ=s64",
      "userId": "07301174361489660166"
     },
     "user_tz": 420
    },
    "id": "Ic6Z8uYB-AsW"
   },
   "outputs": [],
   "source": [
    "def solveLTI(Amat, initialVals, stepVals):\n",
    "  \"\"\"\n",
    "  Solves the linear, time invariant system of differential equations\n",
    "  with the specified step inputs at time 0.\n",
    "\n",
    "  Parameters\n",
    "  ----------\n",
    "  Amat: Matrix\n",
    "      A matrix. \n",
    "      Dimension: N X N, for N state variables\n",
    "  initialVals: Vector\n",
    "      Initial values of state variables.\n",
    "      Dimension: N\n",
    "  stepVals: Vector\n",
    "      Step input to state variables at time 0\n",
    "\n",
    "  Returns\n",
    "  -------\n",
    "  Vector of expressions\n",
    "      Dimension: N\n",
    "      Function of t\n",
    "  \"\"\""
   ]
  },
  {
   "cell_type": "markdown",
   "metadata": {
    "id": "l1lzprWhiq53"
   },
   "source": [
    "# Numerical Studies"
   ]
  },
  {
   "cell_type": "markdown",
   "metadata": {},
   "source": [
    "## Two Species Linear Network"
   ]
  },
  {
   "cell_type": "markdown",
   "metadata": {},
   "source": [
    "$X_0 \\xrightarrow{k_0} x_1 \\xrightarrow{k_1} x_2 \\xrightarrow{k_2} X_1$, for fixed species $X_0, X_1$"
   ]
  },
  {
   "cell_type": "code",
   "execution_count": 16,
   "metadata": {
    "colab": {
     "base_uri": "https://localhost:8080/",
     "height": 265
    },
    "executionInfo": {
     "elapsed": 661,
     "status": "ok",
     "timestamp": 1619726543654,
     "user": {
      "displayName": "Joseph Hellerstein",
      "photoUrl": "https://lh3.googleusercontent.com/a-/AOh14Ggr-yAwbfqFCOlFTHoKepUYJ9VjZuCGILW-YdHvUQ=s64",
      "userId": "07301174361489660166"
     },
     "user_tz": 420
    },
    "id": "5lJk9Im3ipmS",
    "outputId": "876cb640-91b9-4ce3-d002-b3a479c45b86"
   },
   "outputs": [
    {
     "data": {
      "image/png": "[encoded data removed]",
      "text/plain": [
       "<Figure size 432x288 with 1 Axes>"
      ]
     },
     "metadata": {},
     "output_type": "display_data"
    }
   ],
   "source": [
    "model = \"\"\"\n",
    "J0: $X0 -> x1; k0*X0\n",
    "J1: x1 -> x2; k1*x1\n",
    "J2: x2 -> ; k2*x2\n",
    "\n",
    "k0 = 1\n",
    "k1 = 1\n",
    "k2 = 2\n",
    "\n",
    "X0 = 1\n",
    "X1 = 3\n",
    "x1 = 0\n",
    "x2 = 0\n",
    "\"\"\"\n",
    "\n",
    "rr = te.loada(model)\n",
    "rr.plot(rr.simulate())"
   ]
  },
  {
   "cell_type": "code",
   "execution_count": 17,
   "metadata": {},
   "outputs": [
    {
     "data": {
      "image/png": "[encoded data removed]",
      "text/plain": [
       "<Figure size 432x288 with 1 Axes>"
      ]
     },
     "metadata": {
      "needs_background": "light"
     },
     "output_type": "display_data"
    }
   ],
   "source": [
    "su.addSymbols(\"k0 k1 k2\")\n",
    "aMat = sympy.Matrix([ [   0,    0,    0],\n",
    "                       [   k0,  -k1,   0],\n",
    "                       [   0,    k1, -k2],\n",
    "                   ])\n",
    "initialVec = sympy.Matrix([1, 0, 0])\n",
    "solver = LTISolver(aMat, initialVec)\n",
    "solver.plot(0, 5, 100, subs={k0:1, k1: 1, k2: 2})"
   ]
  },
  {
   "cell_type": "markdown",
   "metadata": {},
   "source": [
    "## FFL"
   ]
  },
  {
   "cell_type": "markdown",
   "metadata": {},
   "source": [
    "$X \\xrightarrow{k_0} x$, $x \\xrightarrow{k_1} y \\xrightarrow{k_2} z$,  $x \\xrightarrow{k_3} z$, $z \\xrightarrow{k_0}$"
   ]
  },
  {
   "cell_type": "code",
   "execution_count": 34,
   "metadata": {},
   "outputs": [
    {
     "data": {
      "image/png": "[encoded data removed]",
      "text/plain": [
       "<Figure size 432x288 with 1 Axes>"
      ]
     },
     "metadata": {},
     "output_type": "display_data"
    }
   ],
   "source": [
    "model = \"\"\"\n",
    "J0: $x_0 -> x_1; k0*x_0\n",
    "J1: x_1 -> x_2; k1*x_1\n",
    "J2: x_2 -> x_3; k2*x_2\n",
    "J3: x_1 -> x_3; k3*x_1\n",
    "J4: x_3 ->  ; k0*x_3\n",
    "\n",
    "k0 = 1\n",
    "k1 = 1\n",
    "k2 = 2\n",
    "k3 = 3\n",
    "\n",
    "x_0 = 1\n",
    "x_1 = 0\n",
    "x_2 = 0\n",
    "x_3 = 0\n",
    "\"\"\"\n",
    "\n",
    "rr = te.loada(model)\n",
    "rr.plot(rr.simulate(0, 5, 100))"
   ]
  },
  {
   "cell_type": "code",
   "execution_count": 46,
   "metadata": {},
   "outputs": [
    {
     "data": {
      "image/png": "[encoded data removed]",
      "text/latex": [
       "$\\displaystyle 0.124988520655409$"
      ],
      "text/plain": [
       "0.12498852065540887"
      ]
     },
     "execution_count": 46,
     "metadata": {},
     "output_type": "execute_result"
    }
   ],
   "source": [
    "rr.x_2"
   ]
  },
  {
   "cell_type": "code",
   "execution_count": 35,
   "metadata": {},
   "outputs": [
    {
     "data": {
      "image/png": "[encoded data removed]",
      "text/plain": [
       "<Figure size 432x288 with 1 Axes>"
      ]
     },
     "metadata": {
      "needs_background": "light"
     },
     "output_type": "display_data"
    }
   ],
   "source": [
    "su.addSymbols(\"k0 k1 k2 k3\")\n",
    "aMat = sympy.Matrix([ [   0,           0,   0,  0], \n",
    "                       [   k0,  -(k1 + k3),  0,  0], \n",
    "                       [   0,          k1, -k2,  0], \n",
    "                       [   0,          k3,  k2, -k0],\n",
    "                       ])\n",
    "initialVec = sympy.Matrix([1, 0, 0, 0])\n",
    "solver = LTISolver(aMat, initialVec)\n",
    "subs={k0:1, k1: 1, k2: 2, k3: 3}\n",
    "solver.plot(0, 5, 100, subs=subs)"
   ]
  },
  {
   "cell_type": "code",
   "execution_count": 36,
   "metadata": {},
   "outputs": [
    {
     "data": {
      "text/latex": [
       "$\\displaystyle \\left[\\begin{matrix}1.0 & 0 & 0 & 0\\\\\\frac{k_{0}}{k_{1} + k_{3}} & 0 & 0 & \\frac{\\left(- k_{0} k_{1} + k_{0} k_{2} - k_{0} k_{3} + k_{1}^{2} - k_{1} k_{2} + 2.0 k_{1} k_{3} - k_{2} k_{3} + k_{3}^{2}\\right) e^{- t \\left(k_{1} + k_{3}\\right)}}{k_{1} k_{2} - k_{1} k_{3} + k_{2} k_{3} - k_{3}^{2}}\\\\\\frac{k_{0} k_{1}}{k_{2} \\left(k_{1} + k_{3}\\right)} & 0 & \\frac{\\left(k_{0} - k_{2}\\right) e^{- k_{2} t}}{k_{2}} & \\frac{k_{1} \\left(k_{0} - k_{1} - k_{3}\\right) e^{- t \\left(k_{1} + k_{3}\\right)}}{k_{1} k_{2} - k_{1} k_{3} + k_{2} k_{3} - k_{3}^{2}}\\\\1.0 & 1.0 e^{- k_{0} t} & 1.0 e^{- k_{2} t} & 1.0 e^{- t \\left(k_{1} + k_{3}\\right)}\\end{matrix}\\right]$"
      ],
      "text/plain": [
       "⎡    1.0           0              0                                           \n",
       "⎢                                                                             \n",
       "⎢                                            ⎛                           2    \n",
       "⎢     k₀                                     ⎝-k₀⋅k₁ + k₀⋅k₂ - k₀⋅k₃ + k₁  - k\n",
       "⎢  ───────         0              0          ─────────────────────────────────\n",
       "⎢  k₁ + k₃                                                                    \n",
       "⎢                                                                     k₁⋅k₂ - \n",
       "⎢                                                                             \n",
       "⎢                                     -k₂⋅t                                   \n",
       "⎢   k₀⋅k₁                  (k₀ - k₂)⋅ℯ                              k₁⋅(k₀ - k\n",
       "⎢────────────      0       ────────────────                         ──────────\n",
       "⎢k₂⋅(k₁ + k₃)                     k₂                                          \n",
       "⎢                                                                     k₁⋅k₂ - \n",
       "⎢                                                                             \n",
       "⎢                   -k₀⋅t          -k₂⋅t                                      \n",
       "⎣    1.0       1.0⋅ℯ          1.0⋅ℯ                                        1.0\n",
       "\n",
       "     0                                       ⎤\n",
       "                                             ⎥\n",
       "                             2⎞  -t⋅(k₁ + k₃)⎥\n",
       "₁⋅k₂ + 2.0⋅k₁⋅k₃ - k₂⋅k₃ + k₃ ⎠⋅ℯ            ⎥\n",
       "─────────────────────────────────────────────⎥\n",
       "                  2                          ⎥\n",
       "k₁⋅k₃ + k₂⋅k₃ - k₃                           ⎥\n",
       "                                             ⎥\n",
       "         -t⋅(k₁ + k₃)                        ⎥\n",
       "₁ - k₃)⋅ℯ                                    ⎥\n",
       "─────────────────────                        ⎥\n",
       "                  2                          ⎥\n",
       "k₁⋅k₃ + k₂⋅k₃ - k₃                           ⎥\n",
       "                                             ⎥\n",
       "  -t⋅(k₁ + k₃)                               ⎥\n",
       "⋅ℯ                                           ⎦"
      ]
     },
     "execution_count": 36,
     "metadata": {},
     "output_type": "execute_result"
    }
   ],
   "source": [
    "\n",
    "solver.fundamentalMat"
   ]
  },
  {
   "cell_type": "code",
   "execution_count": 49,
   "metadata": {},
   "outputs": [
    {
     "data": {
      "image/png": "[encoded data removed]",
      "text/latex": [
       "$\\displaystyle 0.000125622628714955$"
      ],
      "text/plain": [
       "0.000125622628714955"
      ]
     },
     "execution_count": 49,
     "metadata": {},
     "output_type": "execute_result"
    }
   ],
   "source": [
    "# Squared error difference between predicated and actual values\n",
    "v = su.evaluate(solver.fundamentalMat[:, 0], subs=subs) - sympy.Matrix([rr.x_0, rr.x_1, rr.x_2, rr.x_3])\n",
    "v.dot(v)"
   ]
  },
  {
   "cell_type": "code",
   "execution_count": 42,
   "metadata": {},
   "outputs": [
    {
     "data": {
      "text/plain": [
       "array([[1.00000000000000],\n",
       "       [-1.66666666666667],\n",
       "       [0.500000000000000],\n",
       "       [0.166666666666667]], dtype=object)"
      ]
     },
     "execution_count": 42,
     "metadata": {},
     "output_type": "execute_result"
    }
   ],
   "source": [
    "su.evaluate(solver.coefHomogeneousVec, subs=subs)"
   ]
  },
  {
   "cell_type": "code",
   "execution_count": 21,
   "metadata": {},
   "outputs": [
    {
     "data": {
      "text/plain": [
       "[0, -k0, -k2, -k1 - k3]"
      ]
     },
     "execution_count": 21,
     "metadata": {},
     "output_type": "execute_result"
    }
   ],
   "source": [
    "[e.val for e in solver.eigenCollection.eigenInfos]"
   ]
  },
  {
   "cell_type": "markdown",
   "metadata": {},
   "source": [
    "## Complex Eigenvalues"
   ]
  },
  {
   "cell_type": "markdown",
   "metadata": {
    "id": "BimrgveDm8eH"
   },
   "source": [
    "**Compare analysis with simulation.**\n",
    "1. Evaluate non-complementary solutions."
   ]
  }
 ],
 "metadata": {
  "colab": {
   "authorship_tag": "ABX9TyO/AKcK1Q9d3pxIf4s16sY1",
   "collapsed_sections": [],
   "name": "Solving Inhomogeneous LTI Differential Equations.ipynb",
   "provenance": [],
   "toc_visible": true
  },
  "kernelspec": {
   "display_name": "Python 3",
   "language": "python",
   "name": "python3"
  },
  "language_info": {
   "codemirror_mode": {
    "name": "ipython",
    "version": 3
   },
   "file_extension": ".py",
   "mimetype": "text/x-python",
   "name": "python",
   "nbconvert_exporter": "python",
   "pygments_lexer": "ipython3",
   "version": "3.6.9"
  }
 },
 "nbformat": 4,
 "nbformat_minor": 4
}
